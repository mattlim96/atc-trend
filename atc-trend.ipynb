{
  "nbformat": 4,
  "nbformat_minor": 2,
  "metadata": {
    "colab": {
      "name": "Copy of ATC v8 - Platform Tables Daily Update v1.ipynb",
      "provenance": []
    },
    "kernelspec": {
      "name": "python3",
      "display_name": "Python 3.8.6 64-bit"
    },
    "language_info": {
      "codemirror_mode": {
        "name": "ipython",
        "version": 3
      },
      "file_extension": ".py",
      "mimetype": "text/x-python",
      "name": "python",
      "nbconvert_exporter": "python",
      "pygments_lexer": "ipython3",
      "version": "3.8.6"
    },
    "metadata": {
      "interpreter": {
        "hash": "feb4888d85956e850602a086038c0f605a818d77414ee55858e3fc9848402cbb"
      }
    },
    "interpreter": {
      "hash": "feb4888d85956e850602a086038c0f605a818d77414ee55858e3fc9848402cbb"
    }
  },
  "cells": [
    {
      "cell_type": "code",
      "execution_count": 1,
      "source": [
        "import time\r\n",
        "import datetime\r\n",
        "from datetime import datetime\r\n",
        "import pandas as pd\r\n",
        "import numpy as np\r\n",
        "from datetime import date, timezone, timedelta\r\n",
        "\r\n",
        "import collections\r\n",
        "import matplotlib.cm as cm\r\n",
        "import matplotlib.pyplot as plt\r\n",
        "from matplotlib import rcParams\r\n",
        "from wordcloud import WordCloud, STOPWORDS\r\n",
        "%matplotlib inline\r\n",
        "\r\n",
        "import pytz\r\n",
        "import json\r\n",
        "import logging\r\n",
        "from pathlib2 import Path\r\n",
        "from sklearn.feature_extraction.text import CountVectorizer\r\n",
        "\r\n",
        "pd.set_option('display.max_columns', None)\r\n",
        "pd.set_option('display.max_rows', 1000)"
      ],
      "outputs": [],
      "metadata": {
        "id": "BdxWgIkSTfTs"
      }
    },
    {
      "cell_type": "code",
      "execution_count": 2,
      "source": [
        "working_folder=str(Path.cwd())\r\n",
        "print(str(working_folder))\r\n",
        "\r\n",
        "logging.basicConfig(level=logging.INFO)\r\n",
        "logger = logging.getLogger(__name__)"
      ],
      "outputs": [
        {
          "output_type": "stream",
          "name": "stdout",
          "text": [
            "c:\\Users\\Mattheus\\github\\atc-trend\n"
          ]
        }
      ],
      "metadata": {
        "id": "cNzbV0rvEs0f",
        "outputId": "1dba0b5a-b1ac-49dd-9631-2f1b752b3778"
      }
    },
    {
      "cell_type": "code",
      "execution_count": 3,
      "source": [
        "### SAVE ATC RAW DATA FOR TESTING ###\r\n",
        "\r\n",
        "import pyarrow as pa\r\n",
        "import pyarrow.parquet as pq\r\n",
        "# # start = time.time()\r\n",
        "# # table = pa.Table.from_pandas(day_d0_df)\r\n",
        "# # pq.write_table(table, '4.4_data.parquet')\r\n",
        "table = pq.read_table('4.4_data.parquet')\r\n",
        "day_d0_df = table.to_pandas()\r\n",
        "# # end = time.time()\r\n",
        "# # print('Time Elapsed for day_d0_df: '+str(timedelta(seconds=round(end - start,2))))\r\n",
        "len(day_d0_df)"
      ],
      "outputs": [
        {
          "output_type": "execute_result",
          "data": {
            "text/plain": [
              "2298828"
            ]
          },
          "metadata": {},
          "execution_count": 3
        }
      ],
      "metadata": {
        "id": "bvRKWSXA-mPk",
        "outputId": "aa3dd535-b936-463b-bed6-563955c92a8b"
      }
    },
    {
      "cell_type": "code",
      "execution_count": 8,
      "source": [
        "test = day_d0_df.head(600000)"
      ],
      "outputs": [],
      "metadata": {}
    },
    {
      "cell_type": "code",
      "execution_count": 9,
      "source": [
        "test.to_csv('atc_data.csv',index=0)"
      ],
      "outputs": [],
      "metadata": {}
    },
    {
      "cell_type": "code",
      "execution_count": 10,
      "source": [
        "day_d0_df = pd.read_csv('atc_data.csv', index_col=0)"
      ],
      "outputs": [],
      "metadata": {}
    },
    {
      "cell_type": "markdown",
      "source": [
        "# UPDATING TABLE 1"
      ],
      "metadata": {
        "id": "IG8XlMcU-mPl"
      }
    },
    {
      "cell_type": "code",
      "execution_count": 11,
      "source": [
        "### CLEAN QUERIED D-0 ATC RAW DATA ###\r\n",
        "day_d0_clean_left_1 = day_d0_df\r\n",
        "to_remove = ['ready','stock','in malaysia']\r\n",
        "pat = r'({})'.format('|'.join(to_remove))\r\n",
        "day_d0_clean_left_1['name'] = day_d0_clean_left_1['name'].str.lower().str.replace(pat, '', regex=True).fillna(day_d0_clean_left_1['name'])\r\n",
        "\r\n",
        "### SUM ATC COLUMN ###\r\n",
        "# day_d0_clean_left_1 = day_d0_clean_left_1[day_d0_clean_left_1['level1_category'] == 'Home Appliances']\r\n",
        "day_d0_clean_left_2 = day_d0_clean_left_1.reindex(day_d0_clean_left_1.index.repeat(day_d0_clean_left_1.atc))\r\n",
        "\r\n",
        "# specify n-grams\r\n",
        "c_vec = CountVectorizer(ngram_range=(2, 3))\r\n",
        "# input to fit_transform() should be an iterable with strings\r\n",
        "ngrams = c_vec.fit_transform(day_d0_clean_left_2['name'].to_list())\r\n",
        "# needs to happen after fit_transform()\r\n",
        "vocab = c_vec.vocabulary_\r\n",
        "terms = c_vec.get_feature_names()\r\n",
        "freqs = ngrams.sum(axis=0).A1\r\n",
        "result = dict(zip(terms, freqs))\r\n",
        "\r\n",
        "day_d0_final_left = pd.DataFrame(result.items(), columns=['keywords', 'count']).sort_values(by=['count'], ascending = False)\r\n",
        "day_d0_final_left['totalwords'] = day_d0_final_left['keywords'].str.split().str.len()\r\n",
        "day_d0_final_left['max_totalwords'] = day_d0_final_left.groupby('count')['totalwords'].transform(max)\r\n",
        "day_d0_final_left = day_d0_final_left[day_d0_final_left['totalwords'] == day_d0_final_left['max_totalwords']]\r\n",
        "day_d0_final_left = day_d0_final_left.rename({'count': 'atc',}, axis=1)\r\n",
        "day_d0_final_left = day_d0_final_left[day_d0_final_left.columns.drop(list(day_d0_final_left.filter(regex='totalwords')))]\r\n",
        "day_d0_final_left['ranking'] = np.arange(len(day_d0_final_left)) + 1\r\n",
        "day_d0_final_left.head(5)"
      ],
      "outputs": [
        {
          "output_type": "execute_result",
          "data": {
            "text/plain": [
              "                keywords     atc  ranking\n",
              "3671343        plus size  113168        1\n",
              "2881788      long sleeve  110893        2\n",
              "3773048          pro max  108560        3\n",
              "4514593  stainless steel   96875        4\n",
              "2309263     high quality   83212        5"
            ],
            "text/html": [
              "<div>\n",
              "<style scoped>\n",
              "    .dataframe tbody tr th:only-of-type {\n",
              "        vertical-align: middle;\n",
              "    }\n",
              "\n",
              "    .dataframe tbody tr th {\n",
              "        vertical-align: top;\n",
              "    }\n",
              "\n",
              "    .dataframe thead th {\n",
              "        text-align: right;\n",
              "    }\n",
              "</style>\n",
              "<table border=\"1\" class=\"dataframe\">\n",
              "  <thead>\n",
              "    <tr style=\"text-align: right;\">\n",
              "      <th></th>\n",
              "      <th>keywords</th>\n",
              "      <th>atc</th>\n",
              "      <th>ranking</th>\n",
              "    </tr>\n",
              "  </thead>\n",
              "  <tbody>\n",
              "    <tr>\n",
              "      <th>3671343</th>\n",
              "      <td>plus size</td>\n",
              "      <td>113168</td>\n",
              "      <td>1</td>\n",
              "    </tr>\n",
              "    <tr>\n",
              "      <th>2881788</th>\n",
              "      <td>long sleeve</td>\n",
              "      <td>110893</td>\n",
              "      <td>2</td>\n",
              "    </tr>\n",
              "    <tr>\n",
              "      <th>3773048</th>\n",
              "      <td>pro max</td>\n",
              "      <td>108560</td>\n",
              "      <td>3</td>\n",
              "    </tr>\n",
              "    <tr>\n",
              "      <th>4514593</th>\n",
              "      <td>stainless steel</td>\n",
              "      <td>96875</td>\n",
              "      <td>4</td>\n",
              "    </tr>\n",
              "    <tr>\n",
              "      <th>2309263</th>\n",
              "      <td>high quality</td>\n",
              "      <td>83212</td>\n",
              "      <td>5</td>\n",
              "    </tr>\n",
              "  </tbody>\n",
              "</table>\n",
              "</div>"
            ]
          },
          "metadata": {},
          "execution_count": 11
        }
      ],
      "metadata": {
        "id": "WZYiVkaL-mPl",
        "outputId": "2a0e0a87-f924-4575-bc5e-ee094e799b20"
      }
    },
    {
      "cell_type": "code",
      "execution_count": 12,
      "source": [
        "###### SAMPLE DATASET\r\n",
        "\r\n",
        "### SUM PURCHASED COLUMN ###\r\n",
        "day_d0_clean_right = day_d0_clean_left_1[day_d0_clean_left_1['purchased'] > 0]\r\n",
        "day_d0_clean_right = day_d0_clean_right.reindex(day_d0_clean_right.index.repeat(day_d0_clean_right.purchased))\r\n",
        "\r\n",
        "# specify n-grams\r\n",
        "c_vec = CountVectorizer(ngram_range=(2, 3))\r\n",
        "# input to fit_transform() should be an iterable with strings\r\n",
        "ngrams = c_vec.fit_transform(day_d0_clean_right['name'].to_list())\r\n",
        "# needs to happen after fit_transform()\r\n",
        "vocab = c_vec.vocabulary_\r\n",
        "terms = c_vec.get_feature_names()\r\n",
        "freqs = ngrams.sum(axis=0).A1\r\n",
        "result = dict(zip(terms, freqs))\r\n",
        "\r\n",
        "day_d0_final_right = pd.DataFrame(result.items(), columns=['keywords', 'count']).sort_values(by=['count'], ascending = False)\r\n",
        "day_d0_final_right['totalwords'] = day_d0_final_right['keywords'].str.split().str.len()\r\n",
        "day_d0_final_right['max_totalwords'] = day_d0_final_right.groupby('count')['totalwords'].transform(max)\r\n",
        "day_d0_final_right = day_d0_final_right[day_d0_final_right['totalwords'] == day_d0_final_right['max_totalwords']]\r\n",
        "day_d0_final_right = day_d0_final_right.rename({'count': 'purchased',}, axis=1)\r\n",
        "day_d0_final_right = day_d0_final_right[day_d0_final_right.columns.drop(list(day_d0_final_right.filter(regex='totalwords')))]\r\n",
        "\r\n",
        "### COMBINE ATC & PURCHASED ###\r\n",
        "day_d0_final = day_d0_final_left.set_index('keywords').join(day_d0_final_right.set_index('keywords'), how='left')\r\n",
        "day_d0_final.head(5)"
      ],
      "outputs": [
        {
          "output_type": "execute_result",
          "data": {
            "text/plain": [
              "                    atc  ranking  purchased\n",
              "keywords                                   \n",
              "plus size        113168        1    38231.0\n",
              "long sleeve      110893        2    33285.0\n",
              "pro max          108560        3    43337.0\n",
              "stainless steel   96875        4    36561.0\n",
              "high quality      83212        5    31588.0"
            ],
            "text/html": [
              "<div>\n",
              "<style scoped>\n",
              "    .dataframe tbody tr th:only-of-type {\n",
              "        vertical-align: middle;\n",
              "    }\n",
              "\n",
              "    .dataframe tbody tr th {\n",
              "        vertical-align: top;\n",
              "    }\n",
              "\n",
              "    .dataframe thead th {\n",
              "        text-align: right;\n",
              "    }\n",
              "</style>\n",
              "<table border=\"1\" class=\"dataframe\">\n",
              "  <thead>\n",
              "    <tr style=\"text-align: right;\">\n",
              "      <th></th>\n",
              "      <th>atc</th>\n",
              "      <th>ranking</th>\n",
              "      <th>purchased</th>\n",
              "    </tr>\n",
              "    <tr>\n",
              "      <th>keywords</th>\n",
              "      <th></th>\n",
              "      <th></th>\n",
              "      <th></th>\n",
              "    </tr>\n",
              "  </thead>\n",
              "  <tbody>\n",
              "    <tr>\n",
              "      <th>plus size</th>\n",
              "      <td>113168</td>\n",
              "      <td>1</td>\n",
              "      <td>38231.0</td>\n",
              "    </tr>\n",
              "    <tr>\n",
              "      <th>long sleeve</th>\n",
              "      <td>110893</td>\n",
              "      <td>2</td>\n",
              "      <td>33285.0</td>\n",
              "    </tr>\n",
              "    <tr>\n",
              "      <th>pro max</th>\n",
              "      <td>108560</td>\n",
              "      <td>3</td>\n",
              "      <td>43337.0</td>\n",
              "    </tr>\n",
              "    <tr>\n",
              "      <th>stainless steel</th>\n",
              "      <td>96875</td>\n",
              "      <td>4</td>\n",
              "      <td>36561.0</td>\n",
              "    </tr>\n",
              "    <tr>\n",
              "      <th>high quality</th>\n",
              "      <td>83212</td>\n",
              "      <td>5</td>\n",
              "      <td>31588.0</td>\n",
              "    </tr>\n",
              "  </tbody>\n",
              "</table>\n",
              "</div>"
            ]
          },
          "metadata": {},
          "execution_count": 12
        }
      ],
      "metadata": {}
    },
    {
      "cell_type": "code",
      "execution_count": 8,
      "source": [
        "###### ORIGINAL DATASET\r\n",
        "\r\n",
        "### SUM PURCHASED COLUMN ###\r\n",
        "day_d0_clean_right = day_d0_clean_left_1[day_d0_clean_left_1['purchased'] > 0]\r\n",
        "day_d0_clean_right = day_d0_clean_right.reindex(day_d0_clean_right.index.repeat(day_d0_clean_right.purchased))\r\n",
        "\r\n",
        "# specify n-grams\r\n",
        "c_vec = CountVectorizer(ngram_range=(2, 3))\r\n",
        "# input to fit_transform() should be an iterable with strings\r\n",
        "ngrams = c_vec.fit_transform(day_d0_clean_right['name'].to_list())\r\n",
        "# needs to happen after fit_transform()\r\n",
        "vocab = c_vec.vocabulary_\r\n",
        "terms = c_vec.get_feature_names()\r\n",
        "freqs = ngrams.sum(axis=0).A1\r\n",
        "result = dict(zip(terms, freqs))\r\n",
        "\r\n",
        "day_d0_final_right = pd.DataFrame(result.items(), columns=['keywords', 'count']).sort_values(by=['count'], ascending = False)\r\n",
        "day_d0_final_right['totalwords'] = day_d0_final_right['keywords'].str.split().str.len()\r\n",
        "day_d0_final_right['max_totalwords'] = day_d0_final_right.groupby('count')['totalwords'].transform(max)\r\n",
        "day_d0_final_right = day_d0_final_right[day_d0_final_right['totalwords'] == day_d0_final_right['max_totalwords']]\r\n",
        "day_d0_final_right = day_d0_final_right.rename({'count': 'purchased',}, axis=1)\r\n",
        "day_d0_final_right = day_d0_final_right[day_d0_final_right.columns.drop(list(day_d0_final_right.filter(regex='totalwords')))]\r\n",
        "\r\n",
        "### COMBINE ATC & PURCHASED ###\r\n",
        "day_d0_final = day_d0_final_left.set_index('keywords').join(day_d0_final_right.set_index('keywords'), how='left')\r\n",
        "day_d0_final.head(5)"
      ],
      "outputs": [
        {
          "output_type": "execute_result",
          "data": {
            "text/plain": [
              "                    atc  ranking  purchased\n",
              "keywords                                   \n",
              "long sleeve      131674        1    37153.0\n",
              "plus size        131405        2    41843.0\n",
              "pro max          126337        3    48502.0\n",
              "stainless steel  126259        4    43529.0\n",
              "phone case       101454        5    39934.0"
            ],
            "text/html": [
              "<div>\n",
              "<style scoped>\n",
              "    .dataframe tbody tr th:only-of-type {\n",
              "        vertical-align: middle;\n",
              "    }\n",
              "\n",
              "    .dataframe tbody tr th {\n",
              "        vertical-align: top;\n",
              "    }\n",
              "\n",
              "    .dataframe thead th {\n",
              "        text-align: right;\n",
              "    }\n",
              "</style>\n",
              "<table border=\"1\" class=\"dataframe\">\n",
              "  <thead>\n",
              "    <tr style=\"text-align: right;\">\n",
              "      <th></th>\n",
              "      <th>atc</th>\n",
              "      <th>ranking</th>\n",
              "      <th>purchased</th>\n",
              "    </tr>\n",
              "    <tr>\n",
              "      <th>keywords</th>\n",
              "      <th></th>\n",
              "      <th></th>\n",
              "      <th></th>\n",
              "    </tr>\n",
              "  </thead>\n",
              "  <tbody>\n",
              "    <tr>\n",
              "      <th>long sleeve</th>\n",
              "      <td>131674</td>\n",
              "      <td>1</td>\n",
              "      <td>37153.0</td>\n",
              "    </tr>\n",
              "    <tr>\n",
              "      <th>plus size</th>\n",
              "      <td>131405</td>\n",
              "      <td>2</td>\n",
              "      <td>41843.0</td>\n",
              "    </tr>\n",
              "    <tr>\n",
              "      <th>pro max</th>\n",
              "      <td>126337</td>\n",
              "      <td>3</td>\n",
              "      <td>48502.0</td>\n",
              "    </tr>\n",
              "    <tr>\n",
              "      <th>stainless steel</th>\n",
              "      <td>126259</td>\n",
              "      <td>4</td>\n",
              "      <td>43529.0</td>\n",
              "    </tr>\n",
              "    <tr>\n",
              "      <th>phone case</th>\n",
              "      <td>101454</td>\n",
              "      <td>5</td>\n",
              "      <td>39934.0</td>\n",
              "    </tr>\n",
              "  </tbody>\n",
              "</table>\n",
              "</div>"
            ]
          },
          "metadata": {},
          "execution_count": 8
        }
      ],
      "metadata": {
        "id": "xY_ihh-Z-mPl",
        "outputId": "789b22d8-1c9c-411d-e663-1da2dc8dd2f0"
      }
    },
    {
      "cell_type": "code",
      "execution_count": 9,
      "source": [
        "### FINAL D-0 DATA ###\r\n",
        "table1_left = day_d0_final\r\n",
        "table1_left = table1_left.reset_index()\r\n",
        "table1_left = table1_left.rename(columns={'Keywords':'keywords'})\r\n",
        "table1_left['purchased'] = table1_left['purchased'].replace(np.nan,0)\r\n",
        "table1_left['purchased'] = table1_left['purchased'].apply(lambda d: int(d))\r\n",
        "table1_left['CR'] = round(table1_left['purchased'] / table1_left['atc'],2)\r\n",
        "table1_left = table1_left.head(100)\r\n",
        "table1_left = table1_left[['ranking','keywords','atc','purchased','CR']]\r\n",
        "\r\n",
        "### MERGE D-0 AND D-1 DATA THEN UPDATE GSHEET ###\r\n",
        "table1_right = day_d1_df[['keywords','ranking','atc']]\r\n",
        "table1_final = table1_left.merge(table1_right, how='left', on='keywords')\r\n",
        "\r\n",
        "LIST_OF_CLIENTS = refresh_client_emails()\r\n",
        "try_set_with_dataframe(key, 'Mock Up - Daily', table1_final, row=14, col=1, header=False)\r\n",
        "table1_final"
      ],
      "outputs": [
        {
          "output_type": "error",
          "ename": "NameError",
          "evalue": "name 'day_d1_df' is not defined",
          "traceback": [
            "\u001b[1;31m---------------------------------------------------------------------------\u001b[0m",
            "\u001b[1;31mNameError\u001b[0m                                 Traceback (most recent call last)",
            "\u001b[1;32m<ipython-input-9-76b62b1fc8a3>\u001b[0m in \u001b[0;36m<module>\u001b[1;34m\u001b[0m\n\u001b[0;32m     10\u001b[0m \u001b[1;33m\u001b[0m\u001b[0m\n\u001b[0;32m     11\u001b[0m \u001b[1;31m### MERGE D-0 AND D-1 DATA THEN UPDATE GSHEET ###\u001b[0m\u001b[1;33m\u001b[0m\u001b[1;33m\u001b[0m\u001b[1;33m\u001b[0m\u001b[0m\n\u001b[1;32m---> 12\u001b[1;33m \u001b[0mtable1_right\u001b[0m \u001b[1;33m=\u001b[0m \u001b[0mday_d1_df\u001b[0m\u001b[1;33m[\u001b[0m\u001b[1;33m[\u001b[0m\u001b[1;34m'keywords'\u001b[0m\u001b[1;33m,\u001b[0m\u001b[1;34m'ranking'\u001b[0m\u001b[1;33m,\u001b[0m\u001b[1;34m'atc'\u001b[0m\u001b[1;33m]\u001b[0m\u001b[1;33m]\u001b[0m\u001b[1;33m\u001b[0m\u001b[1;33m\u001b[0m\u001b[0m\n\u001b[0m\u001b[0;32m     13\u001b[0m \u001b[0mtable1_final\u001b[0m \u001b[1;33m=\u001b[0m \u001b[0mtable1_left\u001b[0m\u001b[1;33m.\u001b[0m\u001b[0mmerge\u001b[0m\u001b[1;33m(\u001b[0m\u001b[0mtable1_right\u001b[0m\u001b[1;33m,\u001b[0m \u001b[0mhow\u001b[0m\u001b[1;33m=\u001b[0m\u001b[1;34m'left'\u001b[0m\u001b[1;33m,\u001b[0m \u001b[0mon\u001b[0m\u001b[1;33m=\u001b[0m\u001b[1;34m'keywords'\u001b[0m\u001b[1;33m)\u001b[0m\u001b[1;33m\u001b[0m\u001b[1;33m\u001b[0m\u001b[0m\n\u001b[0;32m     14\u001b[0m \u001b[1;33m\u001b[0m\u001b[0m\n",
            "\u001b[1;31mNameError\u001b[0m: name 'day_d1_df' is not defined"
          ]
        }
      ],
      "metadata": {
        "id": "NuNyqLWV-mPm",
        "outputId": "63335d40-4cdd-4de0-a634-cabb084091e2"
      }
    },
    {
      "cell_type": "markdown",
      "source": [
        "# UPDATING TABLE 2"
      ],
      "metadata": {
        "id": "C7EKRsLR-mPm"
      }
    },
    {
      "cell_type": "code",
      "execution_count": null,
      "source": [
        "table2_left = day_d1_df\r\n",
        "table2_left['purchased'] = table2_left['purchased'].replace(np.nan,0)\r\n",
        "table2_left['purchased'] = table2_left['purchased'].apply(lambda d: int(float(d)))\r\n",
        "table2_left['atc'] = table2_left['atc'].apply(lambda d: int(d))\r\n",
        "table2_left['CR'] = round(table2_left['purchased'] / table2_left['atc'],2)\r\n",
        "table2_left = table2_left.head(100)\r\n",
        "table2_left = table2_left[['ranking','keywords','atc','purchased','CR']]\r\n",
        "\r\n",
        "table2_left.info()"
      ],
      "outputs": [
        {
          "output_type": "stream",
          "name": "stdout",
          "text": [
            "<class 'pandas.core.frame.DataFrame'>\n",
            "RangeIndex: 100 entries, 0 to 99\n",
            "Data columns (total 5 columns):\n",
            " #   Column     Non-Null Count  Dtype  \n",
            "---  ------     --------------  -----  \n",
            " 0   ranking    100 non-null    object \n",
            " 1   keywords   100 non-null    object \n",
            " 2   atc        100 non-null    int64  \n",
            " 3   purchased  100 non-null    int64  \n",
            " 4   CR         100 non-null    float64\n",
            "dtypes: float64(1), int64(2), object(2)\n",
            "memory usage: 4.0+ KB\n"
          ]
        }
      ],
      "metadata": {
        "id": "Lgx8nJg3-mPm",
        "outputId": "05dbe205-6ca4-4f38-b146-770f90984598"
      }
    },
    {
      "cell_type": "code",
      "execution_count": null,
      "source": [
        "table2_right = day_d2_df[['keywords','ranking','atc']]\r\n",
        "table2_final = table2_left.merge(table2_right, how='left', on='keywords')\r\n",
        "\r\n",
        "LIST_OF_CLIENTS = refresh_client_emails()\r\n",
        "try_set_with_dataframe(key, 'Mock Up - Daily', table2_final, row=14, col=11, header=False)\r\n",
        "table2_final"
      ],
      "outputs": [
        {
          "output_type": "execute_result",
          "data": {
            "text/plain": [
              "   ranking_x         keywords  atc_x  purchased    CR ranking_y  atc_y\n",
              "0          1      long sleeve  97906      12524  0.13         1  87414\n",
              "1          2  stainless steel  83991      12208  0.15         3  67996\n",
              "2          3        plus size  83551      12545  0.15         2  76283\n",
              "3          4     short sleeve  63103       8737  0.14         4  56998\n",
              "4          5          pro max  62435      10603  0.17         5  56090\n",
              "..       ...              ...    ...        ...   ...       ...    ...\n",
              "95        96   korean version  14114       1527  0.11       100  12264\n",
              "96        97       back cover  14063       2568  0.18       103  12143\n",
              "97        98  premium quality  14062       2592  0.18        93  12722\n",
              "98        99    women fashion  14023       1902  0.14        90  12957\n",
              "99       100       redmi note  13999       2337  0.17       113  11570\n",
              "\n",
              "[100 rows x 7 columns]"
            ],
            "text/html": [
              "<div>\n",
              "<style scoped>\n",
              "    .dataframe tbody tr th:only-of-type {\n",
              "        vertical-align: middle;\n",
              "    }\n",
              "\n",
              "    .dataframe tbody tr th {\n",
              "        vertical-align: top;\n",
              "    }\n",
              "\n",
              "    .dataframe thead th {\n",
              "        text-align: right;\n",
              "    }\n",
              "</style>\n",
              "<table border=\"1\" class=\"dataframe\">\n",
              "  <thead>\n",
              "    <tr style=\"text-align: right;\">\n",
              "      <th></th>\n",
              "      <th>ranking_x</th>\n",
              "      <th>keywords</th>\n",
              "      <th>atc_x</th>\n",
              "      <th>purchased</th>\n",
              "      <th>CR</th>\n",
              "      <th>ranking_y</th>\n",
              "      <th>atc_y</th>\n",
              "    </tr>\n",
              "  </thead>\n",
              "  <tbody>\n",
              "    <tr>\n",
              "      <th>0</th>\n",
              "      <td>1</td>\n",
              "      <td>long sleeve</td>\n",
              "      <td>97906</td>\n",
              "      <td>12524</td>\n",
              "      <td>0.13</td>\n",
              "      <td>1</td>\n",
              "      <td>87414</td>\n",
              "    </tr>\n",
              "    <tr>\n",
              "      <th>1</th>\n",
              "      <td>2</td>\n",
              "      <td>stainless steel</td>\n",
              "      <td>83991</td>\n",
              "      <td>12208</td>\n",
              "      <td>0.15</td>\n",
              "      <td>3</td>\n",
              "      <td>67996</td>\n",
              "    </tr>\n",
              "    <tr>\n",
              "      <th>2</th>\n",
              "      <td>3</td>\n",
              "      <td>plus size</td>\n",
              "      <td>83551</td>\n",
              "      <td>12545</td>\n",
              "      <td>0.15</td>\n",
              "      <td>2</td>\n",
              "      <td>76283</td>\n",
              "    </tr>\n",
              "    <tr>\n",
              "      <th>3</th>\n",
              "      <td>4</td>\n",
              "      <td>short sleeve</td>\n",
              "      <td>63103</td>\n",
              "      <td>8737</td>\n",
              "      <td>0.14</td>\n",
              "      <td>4</td>\n",
              "      <td>56998</td>\n",
              "    </tr>\n",
              "    <tr>\n",
              "      <th>4</th>\n",
              "      <td>5</td>\n",
              "      <td>pro max</td>\n",
              "      <td>62435</td>\n",
              "      <td>10603</td>\n",
              "      <td>0.17</td>\n",
              "      <td>5</td>\n",
              "      <td>56090</td>\n",
              "    </tr>\n",
              "    <tr>\n",
              "      <th>...</th>\n",
              "      <td>...</td>\n",
              "      <td>...</td>\n",
              "      <td>...</td>\n",
              "      <td>...</td>\n",
              "      <td>...</td>\n",
              "      <td>...</td>\n",
              "      <td>...</td>\n",
              "    </tr>\n",
              "    <tr>\n",
              "      <th>95</th>\n",
              "      <td>96</td>\n",
              "      <td>korean version</td>\n",
              "      <td>14114</td>\n",
              "      <td>1527</td>\n",
              "      <td>0.11</td>\n",
              "      <td>100</td>\n",
              "      <td>12264</td>\n",
              "    </tr>\n",
              "    <tr>\n",
              "      <th>96</th>\n",
              "      <td>97</td>\n",
              "      <td>back cover</td>\n",
              "      <td>14063</td>\n",
              "      <td>2568</td>\n",
              "      <td>0.18</td>\n",
              "      <td>103</td>\n",
              "      <td>12143</td>\n",
              "    </tr>\n",
              "    <tr>\n",
              "      <th>97</th>\n",
              "      <td>98</td>\n",
              "      <td>premium quality</td>\n",
              "      <td>14062</td>\n",
              "      <td>2592</td>\n",
              "      <td>0.18</td>\n",
              "      <td>93</td>\n",
              "      <td>12722</td>\n",
              "    </tr>\n",
              "    <tr>\n",
              "      <th>98</th>\n",
              "      <td>99</td>\n",
              "      <td>women fashion</td>\n",
              "      <td>14023</td>\n",
              "      <td>1902</td>\n",
              "      <td>0.14</td>\n",
              "      <td>90</td>\n",
              "      <td>12957</td>\n",
              "    </tr>\n",
              "    <tr>\n",
              "      <th>99</th>\n",
              "      <td>100</td>\n",
              "      <td>redmi note</td>\n",
              "      <td>13999</td>\n",
              "      <td>2337</td>\n",
              "      <td>0.17</td>\n",
              "      <td>113</td>\n",
              "      <td>11570</td>\n",
              "    </tr>\n",
              "  </tbody>\n",
              "</table>\n",
              "<p>100 rows × 7 columns</p>\n",
              "</div>"
            ]
          },
          "metadata": {},
          "execution_count": 23
        }
      ],
      "metadata": {
        "id": "VQ5JnteC-mPm",
        "outputId": "320f01ee-b204-4d85-94e8-4c034c16466f"
      }
    }
  ]
}