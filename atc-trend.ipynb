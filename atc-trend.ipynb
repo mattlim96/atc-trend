{
  "nbformat": 4,
  "nbformat_minor": 2,
  "metadata": {
    "colab": {
      "name": "Copy of ATC v8 - Platform Tables Daily Update v1.ipynb",
      "provenance": []
    },
    "kernelspec": {
      "name": "python3",
      "display_name": "Python 3.8.6 64-bit"
    },
    "language_info": {
      "codemirror_mode": {
        "name": "ipython",
        "version": 3
      },
      "file_extension": ".py",
      "mimetype": "text/x-python",
      "name": "python",
      "nbconvert_exporter": "python",
      "pygments_lexer": "ipython3",
      "version": "3.8.6"
    },
    "metadata": {
      "interpreter": {
        "hash": "feb4888d85956e850602a086038c0f605a818d77414ee55858e3fc9848402cbb"
      }
    },
    "interpreter": {
      "hash": "feb4888d85956e850602a086038c0f605a818d77414ee55858e3fc9848402cbb"
    }
  },
  "cells": [
    {
      "cell_type": "markdown",
      "source": [
        "# Keyword Trends from ATC data"
      ],
      "metadata": {}
    },
    {
      "cell_type": "code",
      "execution_count": 1,
      "source": [
        "import time\r\n",
        "import datetime\r\n",
        "from datetime import datetime\r\n",
        "import pandas as pd\r\n",
        "import numpy as np\r\n",
        "from datetime import date, timezone, timedelta\r\n",
        "\r\n",
        "import collections\r\n",
        "import matplotlib.cm as cm\r\n",
        "import matplotlib.pyplot as plt\r\n",
        "from matplotlib import rcParams\r\n",
        "from wordcloud import WordCloud, STOPWORDS\r\n",
        "%matplotlib inline\r\n",
        "\r\n",
        "import pytz\r\n",
        "import json\r\n",
        "import logging\r\n",
        "from pathlib2 import Path\r\n",
        "from sklearn.feature_extraction.text import CountVectorizer\r\n",
        "\r\n",
        "pd.set_option('display.max_columns', None)\r\n",
        "pd.set_option('display.max_rows', 1000)\r\n",
        "\r\n",
        "working_folder=str(Path.cwd())\r\n",
        "print(str(working_folder))\r\n",
        "\r\n",
        "logging.basicConfig(level=logging.INFO)\r\n",
        "logger = logging.getLogger(__name__)"
      ],
      "outputs": [
        {
          "output_type": "stream",
          "name": "stdout",
          "text": [
            "c:\\Users\\Mattheus\\github\\atc-trend\n"
          ]
        }
      ],
      "metadata": {
        "id": "BdxWgIkSTfTs"
      }
    },
    {
      "cell_type": "markdown",
      "source": [
        "## Import ATC data"
      ],
      "metadata": {
        "id": "cNzbV0rvEs0f",
        "outputId": "1dba0b5a-b1ac-49dd-9631-2f1b752b3778"
      }
    },
    {
      "cell_type": "code",
      "execution_count": 11,
      "source": [
        "day_d0_df = pd.read_csv('atc_data.csv', index_col=0)"
      ],
      "outputs": [],
      "metadata": {}
    },
    {
      "cell_type": "markdown",
      "source": [
        "## Identify Keywords"
      ],
      "metadata": {}
    },
    {
      "cell_type": "code",
      "execution_count": 12,
      "source": [
        "startTime = time.time()\r\n",
        "\r\n",
        "### CLEAN QUERIED D-0 ATC RAW DATA ###\r\n",
        "day_d0_clean_left_1 = day_d0_df\r\n",
        "to_remove = ['ready','stock','in malaysia']\r\n",
        "pat = r'({})'.format('|'.join(to_remove))\r\n",
        "day_d0_clean_left_1['name'] = day_d0_clean_left_1['name'].str.lower().str.replace(pat, '', regex=True).fillna(day_d0_clean_left_1['name'])\r\n",
        "\r\n",
        "### SUM ATC COLUMN ###\r\n",
        "# day_d0_clean_left_1 = day_d0_clean_left_1[day_d0_clean_left_1['level1_category'] == 'Home Appliances']\r\n",
        "day_d0_clean_left_2 = day_d0_clean_left_1.reindex(day_d0_clean_left_1.index.repeat(day_d0_clean_left_1.atc))\r\n",
        "\r\n",
        "# specify n-grams\r\n",
        "c_vec = CountVectorizer(ngram_range=(2, 3))\r\n",
        "# input to fit_transform() should be an iterable with strings\r\n",
        "ngrams = c_vec.fit_transform(day_d0_clean_left_2['name'].to_list())\r\n",
        "# needs to happen after fit_transform()\r\n",
        "vocab = c_vec.vocabulary_\r\n",
        "terms = c_vec.get_feature_names()\r\n",
        "freqs = ngrams.sum(axis=0).A1\r\n",
        "result = dict(zip(terms, freqs))\r\n",
        "\r\n",
        "day_d0_final_left = pd.DataFrame(result.items(), columns=['keywords', 'count']).sort_values(by=['count'], ascending = False)\r\n",
        "day_d0_final_left['totalwords'] = day_d0_final_left['keywords'].str.split().str.len()\r\n",
        "day_d0_final_left['max_totalwords'] = day_d0_final_left.groupby('count')['totalwords'].transform(max)\r\n",
        "day_d0_final_left = day_d0_final_left[day_d0_final_left['totalwords'] == day_d0_final_left['max_totalwords']]\r\n",
        "day_d0_final_left = day_d0_final_left.rename({'count': 'atc',}, axis=1)\r\n",
        "day_d0_final_left = day_d0_final_left[day_d0_final_left.columns.drop(list(day_d0_final_left.filter(regex='totalwords')))]\r\n",
        "day_d0_final_left['ranking'] = np.arange(len(day_d0_final_left)) + 1\r\n",
        "\r\n",
        "### SUM PURCHASED COLUMN ###\r\n",
        "day_d0_clean_right = day_d0_clean_left_1[day_d0_clean_left_1['purchased'] > 0]\r\n",
        "day_d0_clean_right = day_d0_clean_right.reindex(day_d0_clean_right.index.repeat(day_d0_clean_right.purchased))\r\n",
        "\r\n",
        "# specify n-grams\r\n",
        "c_vec = CountVectorizer(ngram_range=(2, 3))\r\n",
        "# input to fit_transform() should be an iterable with strings\r\n",
        "ngrams = c_vec.fit_transform(day_d0_clean_right['name'].to_list())\r\n",
        "# needs to happen after fit_transform()\r\n",
        "vocab = c_vec.vocabulary_\r\n",
        "terms = c_vec.get_feature_names()\r\n",
        "freqs = ngrams.sum(axis=0).A1\r\n",
        "result = dict(zip(terms, freqs))\r\n",
        "\r\n",
        "day_d0_final_right = pd.DataFrame(result.items(), columns=['keywords', 'count']).sort_values(by=['count'], ascending = False)\r\n",
        "day_d0_final_right['totalwords'] = day_d0_final_right['keywords'].str.split().str.len()\r\n",
        "day_d0_final_right['max_totalwords'] = day_d0_final_right.groupby('count')['totalwords'].transform(max)\r\n",
        "day_d0_final_right = day_d0_final_right[day_d0_final_right['totalwords'] == day_d0_final_right['max_totalwords']]\r\n",
        "day_d0_final_right = day_d0_final_right.rename({'count': 'purchased',}, axis=1)\r\n",
        "day_d0_final_right = day_d0_final_right[day_d0_final_right.columns.drop(list(day_d0_final_right.filter(regex='totalwords')))]\r\n",
        "\r\n",
        "### COMBINE ATC & PURCHASED ###\r\n",
        "day_d0_final = day_d0_final_left.set_index('keywords').join(day_d0_final_right.set_index('keywords'), how='left')\r\n",
        "day_d0_final.head(5)\r\n",
        "\r\n",
        "endTime = time.time()\r\n",
        "totalTime = endTime - startTime\r\n",
        "logger.info(f'Time Elapsed: {time.strftime(\"%H:%M:%S\", time.gmtime(totalTime))}')"
      ],
      "outputs": [
        {
          "output_type": "stream",
          "name": "stderr",
          "text": [
            "INFO:__main__:Time Elapsed: 00:04:25\n"
          ]
        }
      ],
      "metadata": {
        "id": "WZYiVkaL-mPl",
        "outputId": "2a0e0a87-f924-4575-bc5e-ee094e799b20"
      }
    },
    {
      "cell_type": "markdown",
      "source": [
        "## ATC Keyword Trend"
      ],
      "metadata": {}
    },
    {
      "cell_type": "code",
      "execution_count": 16,
      "source": [
        "day_d0_final.head(10)"
      ],
      "outputs": [
        {
          "output_type": "execute_result",
          "data": {
            "text/plain": [
              "                    atc  ranking  purchased\n",
              "keywords                                   \n",
              "plus size        113168        1    38231.0\n",
              "long sleeve      110893        2    33285.0\n",
              "pro max          108560        3    43337.0\n",
              "stainless steel   96875        4    36561.0\n",
              "high quality      83212        5    31588.0\n",
              "xs max            80786        6    31565.0\n",
              "phone case        76557        7    32497.0\n",
              "short sleeve      74627        8    26554.0\n",
              "11 pro            72443        9    28490.0\n",
              "iphone 12         65508       10    25466.0"
            ],
            "text/html": [
              "<div>\n",
              "<style scoped>\n",
              "    .dataframe tbody tr th:only-of-type {\n",
              "        vertical-align: middle;\n",
              "    }\n",
              "\n",
              "    .dataframe tbody tr th {\n",
              "        vertical-align: top;\n",
              "    }\n",
              "\n",
              "    .dataframe thead th {\n",
              "        text-align: right;\n",
              "    }\n",
              "</style>\n",
              "<table border=\"1\" class=\"dataframe\">\n",
              "  <thead>\n",
              "    <tr style=\"text-align: right;\">\n",
              "      <th></th>\n",
              "      <th>atc</th>\n",
              "      <th>ranking</th>\n",
              "      <th>purchased</th>\n",
              "    </tr>\n",
              "    <tr>\n",
              "      <th>keywords</th>\n",
              "      <th></th>\n",
              "      <th></th>\n",
              "      <th></th>\n",
              "    </tr>\n",
              "  </thead>\n",
              "  <tbody>\n",
              "    <tr>\n",
              "      <th>plus size</th>\n",
              "      <td>113168</td>\n",
              "      <td>1</td>\n",
              "      <td>38231.0</td>\n",
              "    </tr>\n",
              "    <tr>\n",
              "      <th>long sleeve</th>\n",
              "      <td>110893</td>\n",
              "      <td>2</td>\n",
              "      <td>33285.0</td>\n",
              "    </tr>\n",
              "    <tr>\n",
              "      <th>pro max</th>\n",
              "      <td>108560</td>\n",
              "      <td>3</td>\n",
              "      <td>43337.0</td>\n",
              "    </tr>\n",
              "    <tr>\n",
              "      <th>stainless steel</th>\n",
              "      <td>96875</td>\n",
              "      <td>4</td>\n",
              "      <td>36561.0</td>\n",
              "    </tr>\n",
              "    <tr>\n",
              "      <th>high quality</th>\n",
              "      <td>83212</td>\n",
              "      <td>5</td>\n",
              "      <td>31588.0</td>\n",
              "    </tr>\n",
              "    <tr>\n",
              "      <th>xs max</th>\n",
              "      <td>80786</td>\n",
              "      <td>6</td>\n",
              "      <td>31565.0</td>\n",
              "    </tr>\n",
              "    <tr>\n",
              "      <th>phone case</th>\n",
              "      <td>76557</td>\n",
              "      <td>7</td>\n",
              "      <td>32497.0</td>\n",
              "    </tr>\n",
              "    <tr>\n",
              "      <th>short sleeve</th>\n",
              "      <td>74627</td>\n",
              "      <td>8</td>\n",
              "      <td>26554.0</td>\n",
              "    </tr>\n",
              "    <tr>\n",
              "      <th>11 pro</th>\n",
              "      <td>72443</td>\n",
              "      <td>9</td>\n",
              "      <td>28490.0</td>\n",
              "    </tr>\n",
              "    <tr>\n",
              "      <th>iphone 12</th>\n",
              "      <td>65508</td>\n",
              "      <td>10</td>\n",
              "      <td>25466.0</td>\n",
              "    </tr>\n",
              "  </tbody>\n",
              "</table>\n",
              "</div>"
            ]
          },
          "metadata": {},
          "execution_count": 16
        }
      ],
      "metadata": {}
    }
  ]
}